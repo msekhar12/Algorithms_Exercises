{
 "cells": [
  {
   "cell_type": "markdown",
   "metadata": {},
   "source": [
    "# Exercise 1\n",
    "\n",
    "This problem was recently asked by Google.\n",
    "\n",
    "Given a list of numbers and a number k, return whether any two numbers from the list add up to k.\n",
    "\n",
    "For example, given [10, 15, 3, 7] and k of 17, return true since 10 + 7 is 17.\n",
    "\n",
    "Bonus: Can you do this in one pass?"
   ]
  },
  {
   "cell_type": "markdown",
   "metadata": {},
   "source": [
    "## Questions to clarify\n",
    "\n",
    "1. Is the array a sorted array? If yes, then you may use the following solution.\n",
    "2. Does the array contains only numbers or string values also?"
   ]
  },
  {
   "cell_type": "code",
   "execution_count": 8,
   "metadata": {},
   "outputs": [],
   "source": [
    "#If the input array is sorted:\n",
    "#l = [2,4,7,10]\n",
    "#k = 17\n",
    "\n",
    "#Start at the first element and last element (2 pointers)\n",
    "#If sum of the elements at the two pointers is k then return True\n",
    "#If the sum is greater than k, then move the right pointer to left\n",
    "#If the sum is lesser than k, then move the left pointer to right\n",
    "#repeat this until left is less than right\n",
    "\n",
    "def check_sum(l, k):\n",
    "    #l must be a sorted list\n",
    "    left = 0\n",
    "    right = len(l) - 1\n",
    "    while left < right:\n",
    "        sum_of_l_r = (l[left] + l[right])\n",
    "        if sum_of_l_r == k:\n",
    "            print(\"Sum of {} and {} gives you {}.\".format(l[left],l[right],k))\n",
    "            return True\n",
    "        if sum_of_l_r > k:\n",
    "            right -= 1\n",
    "            continue\n",
    "        if sum_of_l_r < k:\n",
    "            left += 1            \n",
    "    return False    \n"
   ]
  },
  {
   "cell_type": "code",
   "execution_count": 9,
   "metadata": {},
   "outputs": [
    {
     "name": "stdout",
     "output_type": "stream",
     "text": [
      "False\n",
      "Sum of 2 and 7 gives you 9.\n",
      "True\n",
      "Sum of 7 and 8 gives you 15.\n",
      "True\n"
     ]
    }
   ],
   "source": [
    "print(check_sum([1,2,3,4,5,6,7],15))\n",
    "print(check_sum([1,2,3,4,5,6,7],9))\n",
    "print(check_sum([1,3,4,6,7,8],15))"
   ]
  },
  {
   "cell_type": "markdown",
   "metadata": {},
   "source": [
    "## Complexity \n",
    "\n",
    "The time complexity of above solution is $O(N)$"
   ]
  },
  {
   "cell_type": "markdown",
   "metadata": {},
   "source": [
    "## If the data is not sorted:\n",
    "\n",
    "If the data is not sorted, then my solution involves maintaining a set of the visited elements.\n",
    "\n",
    "1. Declare an empty set S\n",
    "2. i = 0\n",
    "3. if l[i] is in the set S, then return True\n",
    "4. else add $k - l[i]$ to S\n",
    "5. increment i by 1\n",
    "6. Check if i <= len(l)-1. if yes, go to 3 else return False"
   ]
  },
  {
   "cell_type": "code",
   "execution_count": 27,
   "metadata": {},
   "outputs": [],
   "source": [
    "def check_sum(l, k):\n",
    "    i = 0\n",
    "    S = set()\n",
    "    len_l = len(l) - 1\n",
    "    while i <= len_l:\n",
    "        if l[i] in S:\n",
    "            print(\"The sum of {}, {} gives you {}\".format((k-l[i]),l[i],k))\n",
    "            return True\n",
    "        diff = k - l[i]\n",
    "        S.add(diff)\n",
    "        i += 1\n",
    "    return False    \n",
    "\n",
    "            "
   ]
  },
  {
   "cell_type": "code",
   "execution_count": 28,
   "metadata": {},
   "outputs": [
    {
     "name": "stdout",
     "output_type": "stream",
     "text": [
      "The sum of 6, 7 gives you 13\n"
     ]
    },
    {
     "data": {
      "text/plain": [
       "True"
      ]
     },
     "execution_count": 28,
     "metadata": {},
     "output_type": "execute_result"
    }
   ],
   "source": [
    "check_sum([1,2,3,4,5,6,7],13)"
   ]
  },
  {
   "cell_type": "markdown",
   "metadata": {},
   "source": [
    "## Some important points\n"
   ]
  },
  {
   "cell_type": "code",
   "execution_count": 49,
   "metadata": {},
   "outputs": [
    {
     "name": "stdout",
     "output_type": "stream",
     "text": [
      "[4, 3, 2, 1]\n",
      "[4, 3, 2, 1]\n",
      "rahkes\n"
     ]
    }
   ],
   "source": [
    "#To reverse a list\n",
    "l=[1,2,3,4]\n",
    "#reversed(l) will generate an iterator\n",
    "print(list(reversed(l)))\n",
    "print(l[3::-1])\n",
    "print(\"\".join(list(reversed(\"sekhar\"))))"
   ]
  },
  {
   "cell_type": "code",
   "execution_count": 50,
   "metadata": {},
   "outputs": [
    {
     "data": {
      "text/plain": [
       "(array([3, 4]),)"
      ]
     },
     "execution_count": 50,
     "metadata": {},
     "output_type": "execute_result"
    }
   ],
   "source": [
    "#To find the index where a matching occure:\n",
    "import numpy as np\n",
    "np.where(np.array([1,2,3,4,4]) == 4)"
   ]
  },
  {
   "cell_type": "code",
   "execution_count": 51,
   "metadata": {},
   "outputs": [
    {
     "ename": "NameError",
     "evalue": "name 'whereis' is not defined",
     "output_type": "error",
     "traceback": [
      "\u001b[0;31m---------------------------------------------------------------------------\u001b[0m",
      "\u001b[0;31mNameError\u001b[0m                                 Traceback (most recent call last)",
      "\u001b[0;32m<ipython-input-51-c359f86cd5a0>\u001b[0m in \u001b[0;36m<module>\u001b[0;34m()\u001b[0m\n\u001b[0;32m----> 1\u001b[0;31m \u001b[0mwhereis\u001b[0m\u001b[0;34m(\u001b[0m\u001b[0ml\u001b[0m\u001b[0;34m[\u001b[0m\u001b[0;36m1\u001b[0m\u001b[0;34m,\u001b[0m\u001b[0;36m2\u001b[0m\u001b[0;34m,\u001b[0m\u001b[0;36m3\u001b[0m\u001b[0;34m,\u001b[0m\u001b[0;36m4\u001b[0m\u001b[0;34m]\u001b[0m\u001b[0;34m,\u001b[0m\u001b[0;36m4\u001b[0m\u001b[0;34m)\u001b[0m\u001b[0;34m\u001b[0m\u001b[0m\n\u001b[0m",
      "\u001b[0;31mNameError\u001b[0m: name 'whereis' is not defined"
     ]
    }
   ],
   "source": [
    "whereis(l[1,2,3,4],4)"
   ]
  },
  {
   "cell_type": "code",
   "execution_count": null,
   "metadata": {},
   "outputs": [],
   "source": []
  }
 ],
 "metadata": {
  "kernelspec": {
   "display_name": "Python 3",
   "language": "python",
   "name": "python3"
  },
  "language_info": {
   "codemirror_mode": {
    "name": "ipython",
    "version": 3
   },
   "file_extension": ".py",
   "mimetype": "text/x-python",
   "name": "python",
   "nbconvert_exporter": "python",
   "pygments_lexer": "ipython3",
   "version": "3.7.0"
  }
 },
 "nbformat": 4,
 "nbformat_minor": 2
}
