{
 "cells": [
  {
   "cell_type": "code",
   "execution_count": 1,
   "metadata": {},
   "outputs": [],
   "source": [
    "from scipy import stats"
   ]
  },
  {
   "cell_type": "code",
   "execution_count": 2,
   "metadata": {},
   "outputs": [
    {
     "data": {
      "text/plain": [
       "2.079613844727662"
      ]
     },
     "execution_count": 2,
     "metadata": {},
     "output_type": "execute_result"
    }
   ],
   "source": [
    "stats.t.ppf(1-0.025, 21)"
   ]
  },
  {
   "cell_type": "code",
   "execution_count": 3,
   "metadata": {},
   "outputs": [
    {
     "data": {
      "text/plain": [
       "1.840633704139501e-19"
      ]
     },
     "execution_count": 3,
     "metadata": {},
     "output_type": "execute_result"
    }
   ],
   "source": [
    "#tt = (sm-m)/np.sqrt(sv/float(n))  # t-statistic for mean\n",
    "#pval = stats.t.sf(np.abs(tt), n-1)*2  # two-sided pvalue = Prob(abs(t)>tt)\n",
    "#print('t-statistic = %6.3f pvalue = %6.4f' % (tt, pval))\n",
    "#t-statistic =  0.391 pvalue = 0.6955\n",
    "\n",
    "stats.t.ppf(1-0.05,43)"
   ]
  },
  {
   "cell_type": "code",
   "execution_count": 5,
   "metadata": {},
   "outputs": [
    {
     "data": {
      "text/plain": [
       "1.681070701847763"
      ]
     },
     "execution_count": 5,
     "metadata": {},
     "output_type": "execute_result"
    }
   ],
   "source": [
    "stats.t.ppf(1-0.05,43)"
   ]
  },
  {
   "cell_type": "code",
   "execution_count": 30,
   "metadata": {},
   "outputs": [],
   "source": [
    "import numpy as np\n",
    "\n",
    "def ind_sample_t_test(x, y, alpha, mu_x, mu_y, side=None):\n",
    "    '''\n",
    "    Inputs:\n",
    "    x: input list of numbers\n",
    "    y: input list of numbers\n",
    "    alpha: significance level\n",
    "    mu_x: population mean for x\n",
    "    mu_y: population mean for y\n",
    "    side: can be \"R\" for right tailed test\n",
    "          can be \"L\" for left tailed test\n",
    "          can be None for 2 tailed test\n",
    "          \n",
    "    Output:\n",
    "    dictionary: {'side':side, 'df':df, 'alpha':alpha, 't_critical_value':t_critical_values,\\\n",
    "           't_statistic': t_statistic, 'std_err': se, 'pooled_var':pooled_var}\n",
    "    '''\n",
    "    x_numpy_list = np.array(x)\n",
    "    y_numpy_list = np.array(y)\n",
    "    \n",
    "    x_bar = np.mean(x_numpy_list)\n",
    "    y_bar = np.mean(y_numpy_list)\n",
    "    \n",
    "    #Find degrees of freedom\n",
    "    df = len(x) + len(y) - 2\n",
    "    \n",
    "    if side == None:\n",
    "        critical_probability = 1 - (alpha/2)      \n",
    "    elif side == \"R\":\n",
    "        critical_probability = 1-alpha\n",
    "    elif side == \"L\":\n",
    "        critical_probability = alpha\n",
    "    else:\n",
    "        print('Error. You must supply side=\"L\" or side = \"R\" or side = None. But you supplied side as {}'.format(side))\n",
    "    \n",
    "    #Find the critical value for the supplied significance level\n",
    "    t_critical = stats.t.ppf(critical_probability,df)     \n",
    "    \n",
    "    if side == None:\n",
    "        t_critical_values = [-1*t_critical, t_critical]\n",
    "    if side == \"R\":\n",
    "        t_critical_values = [None, t_critical]\n",
    "    if side == \"L\":\n",
    "        t_critical_values = [t_critical, None]\n",
    "\n",
    "    #print(\"t_critical value for alpha({}) is {}\".format(alpha,t_critical_values))\n",
    "    #Find the critical value\n",
    "    \n",
    "    #Pooled variance:\n",
    "    pooled_var =    (np.sum((x_numpy_list - x_bar)**2) + \n",
    "                    np.sum((y_numpy_list - y_bar)**2))/df\n",
    "    \n",
    "    #Corrected std. error\n",
    "    se = np.sqrt(pooled_var/len(x) + pooled_var/len(y))    \n",
    "    \n",
    "    #print(\"pooled variance {}\".format(pooled_var))\n",
    "    #print(\"x_bar: {} y_bar: {}\".format(x_bar, y_bar))\n",
    "    \n",
    "    t_statistic = ((x_bar - y_bar) - (mu_x - mu_y))/ se\n",
    "    #print(t_statistic)\n",
    "    \n",
    "    #Finding p-value of the t_statistic\n",
    "    if side == None:\n",
    "        p_value = stats.t.sf(np.abs(t_statistic), df)*2\n",
    "    else:\n",
    "        p_value = stats.t.sf(np.abs(t_statistic), df)\n",
    "    #print(\"p_value: \", p_value)\n",
    "    return {'side':side, 'df':df, 'alpha':alpha, 't_critical_value':t_critical_values,\\\n",
    "           't_statistic': t_statistic, 'std_err': se, 'pooled_var':pooled_var}"
   ]
  },
  {
   "cell_type": "code",
   "execution_count": 29,
   "metadata": {},
   "outputs": [
    {
     "data": {
      "text/plain": [
       "{'side': None,\n",
       " 'df': 5,\n",
       " 'alpha': 0.05,\n",
       " 't_critical_value': [-2.5705818366147395, 2.5705818366147395],\n",
       " 't_statistic': -1.343320988518935,\n",
       " 'std_err': 2.9776948578836393,\n",
       " 'pooled_var': 15.2}"
      ]
     },
     "execution_count": 29,
     "metadata": {},
     "output_type": "execute_result"
    }
   ],
   "source": [
    "ind_sample_t_test([5,6,1,-4], [3,7,8], 0.05, 0, 0)"
   ]
  },
  {
   "cell_type": "code",
   "execution_count": 39,
   "metadata": {},
   "outputs": [],
   "source": [
    "def ind_sample_t_test_means(x_bar, y_bar,nx, ny, pooled_var, alpha, mu_x, mu_y, side=None):\n",
    "    '''\n",
    "    Inputs:\n",
    "    x_bar: mean of x group\n",
    "    y_bar: mean of y group\n",
    "    alpha: significance level\n",
    "    mu_x: population mean for x\n",
    "    mu_y: population mean for y\n",
    "    side: can be \"R\" for right tailed test\n",
    "          can be \"L\" for left tailed test\n",
    "          can be None for 2 tailed test\n",
    "          \n",
    "    Output:\n",
    "    dictionary: {'side':side, 'df':df, 'alpha':alpha, 't_critical_value':t_critical_values,\\\n",
    "           't_statistic': t_statistic, 'std_err': se, 'pooled_var':pooled_var}\n",
    "    '''    \n",
    "    #Find degrees of freedom\n",
    "    df = nx + ny - 2\n",
    "    \n",
    "    if side == None:\n",
    "        critical_probability = 1 - (alpha/2)      \n",
    "    elif side == \"R\":\n",
    "        critical_probability = 1-alpha\n",
    "    elif side == \"L\":\n",
    "        critical_probability = alpha\n",
    "    else:\n",
    "        print('Error. You must supply side=\"L\" or side = \"R\" or side = None. But you supplied side as {}'.format(side))\n",
    "    \n",
    "    #Find the critical value for the supplied significance level\n",
    "    t_critical = stats.t.ppf(critical_probability,df)     \n",
    "    \n",
    "    if side == None:\n",
    "        t_critical_values = [-1*t_critical, t_critical]\n",
    "    if side == \"R\":\n",
    "        t_critical_values = [None, t_critical]\n",
    "    if side == \"L\":\n",
    "        t_critical_values = [t_critical, None]\n",
    "\n",
    "    #print(\"t_critical value for alpha({}) is {}\".format(alpha,t_critical_values))\n",
    "    #Find the critical value\n",
    "        \n",
    "    #Corrected std. error\n",
    "    se = np.sqrt(pooled_var/nx + pooled_var/ny)    \n",
    "    \n",
    "    #print(\"pooled variance {}\".format(pooled_var))\n",
    "    #print(\"x_bar: {} y_bar: {}\".format(x_bar, y_bar))\n",
    "    \n",
    "    t_statistic = ((x_bar - y_bar) - (mu_x - mu_y))/ se\n",
    "    #print(t_statistic)\n",
    "    \n",
    "    #Finding p-value of the t_statistic\n",
    "    if side == None:\n",
    "        p_value = stats.t.sf(np.abs(t_statistic), df)*2\n",
    "    else:\n",
    "        p_value = stats.t.sf(np.abs(t_statistic), df)\n",
    "    #print(\"p_value: \", p_value)\n",
    "    return {'side':side, 'df':df, 'alpha':alpha, 't_critical_value':t_critical_values,\\\n",
    "           't_statistic': t_statistic, 'std_err': se, 'pooled_var':pooled_var, 'p_value': p_value}"
   ]
  },
  {
   "cell_type": "code",
   "execution_count": 40,
   "metadata": {},
   "outputs": [
    {
     "data": {
      "text/plain": [
       "{'side': 'R',\n",
       " 'df': 41,\n",
       " 'alpha': 0.05,\n",
       " 't_critical_value': [None, 1.6828780004112913],\n",
       " 't_statistic': 15.252789416141766,\n",
       " 'std_err': 0.11145502331533659,\n",
       " 'pooled_var': 0.13,\n",
       " 'p_value': 8.413848547213937e-19}"
      ]
     },
     "execution_count": 40,
     "metadata": {},
     "output_type": "execute_result"
    }
   ],
   "source": [
    "ind_sample_t_test_means(x_bar=3.8, y_bar=2.1, pooled_var = .13,nx = 18, ny = 25, alpha=.05, mu_x=0, mu_y=0, side=\"R\")"
   ]
  },
  {
   "cell_type": "code",
   "execution_count": 42,
   "metadata": {},
   "outputs": [
    {
     "data": {
      "text/plain": [
       "{'side': None,\n",
       " 'df': 107,\n",
       " 'alpha': 0.05,\n",
       " 't_critical_value': [-1.9823833701230174, 1.9823833701230174],\n",
       " 't_statistic': 2.3090894797690584,\n",
       " 'std_err': 0.4330711342117475,\n",
       " 'pooled_var': 5.1,\n",
       " 'p_value': 0.022859587257110004}"
      ]
     },
     "execution_count": 42,
     "metadata": {},
     "output_type": "execute_result"
    }
   ],
   "source": [
    "ind_sample_t_test_means(x_bar=12, y_bar=8, pooled_var = 5.1,nx = 52, ny = 57, alpha=.05, mu_x=6, mu_y=3, side=None)"
   ]
  },
  {
   "cell_type": "markdown",
   "metadata": {},
   "source": [
    "### Question\n",
    "\n",
    "Two populations x and y have means of $\\mu_x = 6$ and $\\mu_y = 3$. So the difference between $\\mu_x - \\mu_y = 3$. A change has been introduced to $x$, and we want to test the hypothesis that $\\mu_x \\ne \\mu_y$. We took a sample of size 52 from $x$ and 57 from $y$. The mean values of sample $\\bar{x}$ and $\\bar{y}$ are 12 and 8 respectively. Based on this, define the null and alternate hypothesis, and perform hypothesis testing. Consider the pooled variance as 5.1"
   ]
  },
  {
   "cell_type": "markdown",
   "metadata": {},
   "source": [
    "$$H_0: \\mu_x - \\mu_y = 3$$\n",
    "$$H_1: \\mu_x - \\mu_y \\ne 3$$\n",
    "\n",
    "$$\\alpha = 0.05$$\n"
   ]
  },
  {
   "cell_type": "code",
   "execution_count": 46,
   "metadata": {},
   "outputs": [
    {
     "name": "stdout",
     "output_type": "stream",
     "text": [
      "p_value:  0.011429793628555002\n",
      "t_statistic:  2.3090894797690584\n",
      "t_critical values:  -1.9823833701230178 , 1.9823833701230174\n"
     ]
    }
   ],
   "source": [
    "se = np.sqrt(5.1/52 + 5.1/57)\n",
    "\n",
    "t_statistic = ((12 - 8) - (3))/se\n",
    "\n",
    "df = 52+57 - 2\n",
    "\n",
    "#p_value of t_statistic:\n",
    "\n",
    "print(\"p_value: \", stats.t.sf(t_statistic, df))\n",
    "print(\"t_statistic: \",t_statistic)\n",
    "print(\"t_critical values: \", stats.t.ppf(0.025, df), \",\",stats.t.ppf(1-0.025, df))\n",
    "\n"
   ]
  },
  {
   "cell_type": "markdown",
   "metadata": {},
   "source": [
    "The obtained p-value of 0.011 is less than 1.98 (on the right tail). Hence we will reject the null hypothesis."
   ]
  },
  {
   "cell_type": "code",
   "execution_count": null,
   "metadata": {},
   "outputs": [],
   "source": []
  }
 ],
 "metadata": {
  "kernelspec": {
   "display_name": "Python 3",
   "language": "python",
   "name": "python3"
  },
  "language_info": {
   "codemirror_mode": {
    "name": "ipython",
    "version": 3
   },
   "file_extension": ".py",
   "mimetype": "text/x-python",
   "name": "python",
   "nbconvert_exporter": "python",
   "pygments_lexer": "ipython3",
   "version": "3.7.0"
  }
 },
 "nbformat": 4,
 "nbformat_minor": 2
}
