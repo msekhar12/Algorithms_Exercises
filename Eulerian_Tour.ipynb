{
 "cells": [
  {
   "cell_type": "markdown",
   "metadata": {},
   "source": [
    "# Eulerian Tour\n",
    "\n",
    "Let us create a program that accepts a list of nodes and creates a graph such that there is a Eulerian Tour (or Eulerian Cycle)"
   ]
  },
  {
   "cell_type": "code",
   "execution_count": 21,
   "metadata": {},
   "outputs": [],
   "source": [
    "#Function that checks if there is a path between tw nodes in a Graph.\n",
    "#A Graph is nothing but a list of tuples (of size 2)\n",
    "\n",
    "class Eulerian_Tour:\n",
    "    def __init__(self, list_of_nodes):\n",
    "        self.list_of_nodes = list_of_nodes   \n",
    "        self.G = self.create_eulerian_tour()\n",
    "        self.nodes_degree = self.get_nodes_degree()\n",
    "        \n",
    "    def check_if_edge_exists(self, edge):\n",
    "        if edge in self.G:\n",
    "            return True\n",
    "        edge_rev = edge.reverse()\n",
    "        if edge_rev in self.G:\n",
    "            return True\n",
    "        return False\n",
    "    \n",
    "    def create_eulerian_tour(self):\n",
    "        #Connect the first node to second, second to third...and finally the last node to the first node\n",
    "        l = len(self.list_of_nodes)\n",
    "        G = []\n",
    "        for i in range(l):\n",
    "             G.append((self.list_of_nodes[i], self.list_of_nodes[(i+1)%l]))\n",
    "        return G\n",
    "    \n",
    "    def print_graph(self):\n",
    "        for i,j in self.G:\n",
    "            print(i,\"--\",j)\n",
    "            \n",
    "    def get_nodes_degree(self):\n",
    "        nodes_degree = {}\n",
    "        for i,j in self.G:\n",
    "            if i in nodes_degree.keys():\n",
    "                nodes_degree[i] += 1\n",
    "            else:\n",
    "                nodes_degree[i] = 1\n",
    "            if j in nodes_degree.keys():\n",
    "                nodes_degree[j] += 1\n",
    "            else:\n",
    "                nodes_degree[j] = 1\n",
    "        return nodes_degree\n",
    "\n",
    "    def create_randomized_eulerian_tour(self):\n",
    "        '''\n",
    "        1. Select two random node from the nodes list\n",
    "        2. Create an edge between the two nodes\n",
    "        \n",
    "        '''\n",
    "                "
   ]
  },
  {
   "cell_type": "code",
   "execution_count": 25,
   "metadata": {},
   "outputs": [],
   "source": [
    "G = Eulerian_Tour([10,20,30])"
   ]
  },
  {
   "cell_type": "code",
   "execution_count": 26,
   "metadata": {},
   "outputs": [
    {
     "name": "stdout",
     "output_type": "stream",
     "text": [
      "10 -- 20\n",
      "20 -- 30\n",
      "30 -- 10\n"
     ]
    }
   ],
   "source": [
    "G.print_graph()"
   ]
  },
  {
   "cell_type": "code",
   "execution_count": 27,
   "metadata": {},
   "outputs": [
    {
     "data": {
      "text/plain": [
       "{10: 2, 20: 2, 30: 2}"
      ]
     },
     "execution_count": 27,
     "metadata": {},
     "output_type": "execute_result"
    }
   ],
   "source": [
    "G.nodes_degree"
   ]
  },
  {
   "cell_type": "code",
   "execution_count": null,
   "metadata": {},
   "outputs": [],
   "source": []
  }
 ],
 "metadata": {
  "kernelspec": {
   "display_name": "Python 3",
   "language": "python",
   "name": "python3"
  },
  "language_info": {
   "codemirror_mode": {
    "name": "ipython",
    "version": 3
   },
   "file_extension": ".py",
   "mimetype": "text/x-python",
   "name": "python",
   "nbconvert_exporter": "python",
   "pygments_lexer": "ipython3",
   "version": "3.7.0"
  }
 },
 "nbformat": 4,
 "nbformat_minor": 2
}
